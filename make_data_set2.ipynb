{
 "cells": [
  {
   "cell_type": "code",
   "execution_count": 25,
   "metadata": {},
   "outputs": [],
   "source": [
    "import os\n",
    "import time\n",
    "import hashlib\n",
    "import json\n",
    "from os import listdir\n",
    "from os.path import isfile, join\n",
    "\n",
    "import pandas as pd\n",
    "import FinanceDataReader as fdr\n",
    "import datetime\n",
    "import torch\n",
    "import torch.nn as nn\n",
    "from torch.utils.data import Dataset, DataLoader\n",
    "import torch.optim as optim\n",
    "import numpy as np\n",
    "import argparse\n",
    "from copy import deepcopy \n",
    "from sklearn.metrics import mean_absolute_error\n",
    "\n",
    "import seaborn as sns \n",
    "import matplotlib.pyplot as plt"
   ]
  },
  {
   "cell_type": "code",
   "execution_count": 26,
   "metadata": {},
   "outputs": [],
   "source": [
    "%matplotlib inline\n",
    "\n",
    "plt.rcParams[\"figure.figsize\"] = (14,8)\n",
    "plt.rcParams['font.size'] = 16\n",
    "plt.rcParams['lines.linewidth'] = 2\n",
    "plt.rcParams[\"axes.grid\"] = True\n",
    "plt.rcParams['axes.axisbelow'] = True"
   ]
  },
  {
   "cell_type": "code",
   "execution_count": 27,
   "metadata": {},
   "outputs": [],
   "source": [
    "def get_data(sym):\n",
    "    file_path = \"./stockData/\"\n",
    "    csv_path = os.path.join(file_path, f\"{sym}.csv\")\n",
    "    df = pd.read_csv(csv_path, parse_dates=True, index_col = ['Date'])\n",
    "    df.drop('Symbol', axis=1, inplace=True)\n",
    "    return df"
   ]
  },
  {
   "cell_type": "code",
   "execution_count": 28,
   "metadata": {},
   "outputs": [],
   "source": [
    "def load_data_set(filename):\n",
    "    dir_path = './stockData'\n",
    "    \n",
    "    with open(os.path.join(dir_path, filename), 'r') as f:\n",
    "        results = json.load(f)\n",
    "        \n",
    "    return results"
   ]
  },
  {
   "cell_type": "code",
   "execution_count": 29,
   "metadata": {},
   "outputs": [],
   "source": [
    "sp500_list = load_data_set('sp500_list.json')"
   ]
  },
  {
   "cell_type": "code",
   "execution_count": 34,
   "metadata": {},
   "outputs": [
    {
     "data": {
      "text/plain": [
       "505"
      ]
     },
     "execution_count": 34,
     "metadata": {},
     "output_type": "execute_result"
    }
   ],
   "source": [
    "len(sp500_list)"
   ]
  },
  {
   "cell_type": "code",
   "execution_count": 35,
   "metadata": {},
   "outputs": [],
   "source": [
    "df_price = pd.DataFrame()\n",
    "\n",
    "for sym in sp500_list:\n",
    "    df = get_data(sym)\n",
    "    df_price[sym] = df['Close']"
   ]
  },
  {
   "cell_type": "code",
   "execution_count": 37,
   "metadata": {},
   "outputs": [],
   "source": [
    "df_price_corr = df_price.corr()"
   ]
  },
  {
   "cell_type": "code",
   "execution_count": 52,
   "metadata": {},
   "outputs": [],
   "source": [
    "best_list = []\n",
    "\n",
    "for _ in range(10):    \n",
    "    for _ in range(10):\n",
    "        corr_price = df_price_corr.copy()\n",
    "\n",
    "        cor_dict = []\n",
    "\n",
    "        rnd = []\n",
    "\n",
    "        first = []\n",
    "\n",
    "        for num in range(10):\n",
    "            temp = np.random.randint(1,505 - (num * 51))\n",
    "            rnd.append(temp)\n",
    "\n",
    "        for r in rnd:\n",
    "            i = corr_price.columns.values[r]\n",
    "            first.append(i)\n",
    "\n",
    "            temp = corr_price[i]\n",
    "            temp_sort = temp.sort_values(ascending=False)\n",
    "            cor_dict.append(temp_sort[1:31])\n",
    "\n",
    "            idx = temp_sort[0:31].index.values\n",
    "            corr_price.drop(idx, inplace=True)\n",
    "            corr_price.drop(idx, axis=1, inplace=True)\n",
    "\n",
    "        remain = list(corr_price.columns.values)\n",
    "    \n",
    "best_list.append(cor_dict)"
   ]
  },
  {
   "cell_type": "code",
   "execution_count": 53,
   "metadata": {},
   "outputs": [
    {
     "name": "stdout",
     "output_type": "stream",
     "text": [
      "0.8618828975296552\n",
      "0\n"
     ]
    }
   ],
   "source": [
    "scores = []\n",
    "\n",
    "for co_list in best_list:\n",
    "    t = []\n",
    "    for cor in co_list:\n",
    "        corr_mean = cor.mean()\n",
    "        t.append(corr_mean)\n",
    "    mean_score = np.mean(t)\n",
    "    scores.append((mean_score))\n",
    "    \n",
    "print(np.max(scores))\n",
    "best_idx = np.argmax(scores)\n",
    "print(best_idx)"
   ]
  },
  {
   "cell_type": "code",
   "execution_count": 54,
   "metadata": {},
   "outputs": [
    {
     "name": "stdout",
     "output_type": "stream",
     "text": [
      "0.8467064506670184\n",
      "0.8969440671599832\n",
      "0.9751565196566973\n",
      "0.8847584792649804\n",
      "0.7754716792038144\n",
      "0.7045023733731411\n",
      "0.9399627582982931\n",
      "0.8753836413722811\n",
      "0.7681898967397685\n",
      "0.9517531095605746\n"
     ]
    }
   ],
   "source": [
    "a = best_list[best_idx]\n",
    "\n",
    "for c in a:\n",
    "    b = c.mean()\n",
    "    print(b)"
   ]
  },
  {
   "cell_type": "code",
   "execution_count": 55,
   "metadata": {},
   "outputs": [],
   "source": [
    "def save_exp_result(result):    \n",
    "    filepath = './results'\n",
    "    if not os.path.isdir(filepath):\n",
    "        os.mkdir(filepath)\n",
    "\n",
    "    filename = './results/dataset_2.json'\n",
    "    with open(filename, 'w') as f:\n",
    "        json.dump(result, f)"
   ]
  },
  {
   "cell_type": "code",
   "execution_count": 58,
   "metadata": {},
   "outputs": [],
   "source": [
    "my_data_set = []\n",
    "\n",
    "for c in a:\n",
    "    temp = list(c.index.values)\n",
    "    temp.append(c.name)\n",
    "    my_data_set.append(temp)"
   ]
  },
  {
   "cell_type": "code",
   "execution_count": 59,
   "metadata": {},
   "outputs": [],
   "source": [
    "save_exp_result(my_data_set)"
   ]
  },
  {
   "cell_type": "code",
   "execution_count": null,
   "metadata": {},
   "outputs": [],
   "source": []
  }
 ],
 "metadata": {
  "kernelspec": {
   "display_name": "Python 3",
   "language": "python",
   "name": "python3"
  },
  "language_info": {
   "codemirror_mode": {
    "name": "ipython",
    "version": 3
   },
   "file_extension": ".py",
   "mimetype": "text/x-python",
   "name": "python",
   "nbconvert_exporter": "python",
   "pygments_lexer": "ipython3",
   "version": "3.8.6"
  }
 },
 "nbformat": 4,
 "nbformat_minor": 4
}
