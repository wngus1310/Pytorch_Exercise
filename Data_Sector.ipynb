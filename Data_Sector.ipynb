{
 "cells": [
  {
   "cell_type": "code",
   "execution_count": 1,
   "metadata": {},
   "outputs": [],
   "source": [
    "import os\n",
    "import time\n",
    "\n",
    "import pandas as pd\n",
    "import FinanceDataReader as fdr\n",
    "import datetime\n",
    "import torch\n",
    "import torch.nn as nn\n",
    "from torch.utils.data import Dataset, DataLoader\n",
    "import torch.optim as optim\n",
    "import numpy as np\n",
    "import argparse\n",
    "from copy import deepcopy \n",
    "from sklearn.metrics import mean_absolute_error\n",
    "\n",
    "import seaborn as sns \n",
    "import matplotlib.pyplot as plt"
   ]
  },
  {
   "cell_type": "code",
   "execution_count": 2,
   "metadata": {},
   "outputs": [],
   "source": [
    "%matplotlib inline\n",
    "\n",
    "plt.rcParams[\"figure.figsize\"] = (14,8)\n",
    "plt.rcParams['font.size'] = 16\n",
    "plt.rcParams['lines.linewidth'] = 2\n",
    "plt.rcParams[\"axes.grid\"] = True\n",
    "plt.rcParams['axes.axisbelow'] = True"
   ]
  },
  {
   "cell_type": "code",
   "execution_count": 3,
   "metadata": {},
   "outputs": [],
   "source": [
    "def get_data(sym):\n",
    "    file_path = \"./stockData/\"\n",
    "    csv_path = os.path.join(file_path, f\"{sym}.csv\")\n",
    "    df = pd.read_csv(csv_path, parse_dates=True, index_col = ['Date'])\n",
    "    return df"
   ]
  },
  {
   "cell_type": "code",
   "execution_count": 7,
   "metadata": {},
   "outputs": [],
   "source": [
    "def get_sector_data(sector, sym):\n",
    "    file_path = f\"./stockData/{sector}\"\n",
    "    csv_path = os.path.join(file_path, f\"{sym}.csv\")\n",
    "    df = pd.read_csv(csv_path, parse_dates=True, index_col = ['Date'])\n",
    "    return df"
   ]
  },
  {
   "cell_type": "code",
   "execution_count": 4,
   "metadata": {},
   "outputs": [],
   "source": [
    "sp500 = fdr.StockListing('S&P500')\n",
    "sp500_list = list(sp500['Symbol'])"
   ]
  },
  {
   "cell_type": "code",
   "execution_count": 5,
   "metadata": {},
   "outputs": [
    {
     "data": {
      "text/plain": [
       "['Real Estate',\n",
       " 'Materials',\n",
       " 'Utilities',\n",
       " 'Health Care',\n",
       " 'Financials',\n",
       " 'Consumer Staples',\n",
       " 'Information Technology',\n",
       " 'Industrials',\n",
       " 'Consumer Discretionary',\n",
       " 'Energy',\n",
       " 'Communication Services']"
      ]
     },
     "execution_count": 5,
     "metadata": {},
     "output_type": "execute_result"
    }
   ],
   "source": [
    "sector_list = list(set(sp500['Sector']))\n",
    "sector_list"
   ]
  },
  {
   "cell_type": "code",
   "execution_count": 6,
   "metadata": {},
   "outputs": [],
   "source": [
    "sector_dict = {}\n",
    "\n",
    "for sector in sector_list:\n",
    "    sector_dict[sector] = list(sp500[sp500['Sector'] == sector]['Symbol'])"
   ]
  },
  {
   "cell_type": "code",
   "execution_count": 9,
   "metadata": {},
   "outputs": [],
   "source": [
    "by_sector = []\n",
    "\n",
    "for sector in sector_list:\n",
    "    df_price = pd.DataFrame()\n",
    "    for sym in sector_dict[sector]:\n",
    "        df = get_sector_data(sector, sym)\n",
    "        df_price[sym] = df['Close']\n",
    "    by_sector.append(df_price)"
   ]
  },
  {
   "cell_type": "code",
   "execution_count": 12,
   "metadata": {},
   "outputs": [],
   "source": [
    "temp = []\n",
    "\n",
    "for data in by_sector:\n",
    "    corr = data.corr()\n",
    "    temp.append(corr)"
   ]
  },
  {
   "cell_type": "code",
   "execution_count": 13,
   "metadata": {},
   "outputs": [
    {
     "name": "stdout",
     "output_type": "stream",
     "text": [
      "0.6255936140900038\n",
      "0.509469681247501\n",
      "0.6150139471582519\n",
      "0.729901024962964\n",
      "0.46029916082933353\n",
      "0.7323365804647016\n",
      "0.7019690383296021\n",
      "0.673470412403942\n",
      "0.49054688689239223\n",
      "0.5380236421283643\n",
      "0.29697174269178533\n"
     ]
    }
   ],
   "source": [
    "for i in range(len(temp)):\n",
    "    print(temp[i].mean().mean())"
   ]
  },
  {
   "cell_type": "code",
   "execution_count": null,
   "metadata": {},
   "outputs": [],
   "source": []
  }
 ],
 "metadata": {
  "kernelspec": {
   "display_name": "Python 3",
   "language": "python",
   "name": "python3"
  },
  "language_info": {
   "codemirror_mode": {
    "name": "ipython",
    "version": 3
   },
   "file_extension": ".py",
   "mimetype": "text/x-python",
   "name": "python",
   "nbconvert_exporter": "python",
   "pygments_lexer": "ipython3",
   "version": "3.8.6"
  }
 },
 "nbformat": 4,
 "nbformat_minor": 4
}
