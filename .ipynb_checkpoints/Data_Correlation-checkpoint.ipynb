{
 "cells": [
  {
   "cell_type": "code",
   "execution_count": 1,
   "metadata": {},
   "outputs": [],
   "source": [
    "import os\n",
    "import time\n",
    "\n",
    "import pandas as pd\n",
    "import FinanceDataReader as fdr\n",
    "import datetime\n",
    "import torch\n",
    "import torch.nn as nn\n",
    "from torch.utils.data import Dataset, DataLoader\n",
    "import torch.optim as optim\n",
    "import numpy as np\n",
    "import argparse\n",
    "from copy import deepcopy \n",
    "from sklearn.metrics import mean_absolute_error\n",
    "\n",
    "import seaborn as sns \n",
    "import matplotlib.pyplot as plt"
   ]
  },
  {
   "cell_type": "code",
   "execution_count": 2,
   "metadata": {},
   "outputs": [],
   "source": [
    "%matplotlib inline\n",
    "\n",
    "plt.rcParams[\"figure.figsize\"] = (14,8)\n",
    "plt.rcParams['font.size'] = 16\n",
    "plt.rcParams['lines.linewidth'] = 2\n",
    "plt.rcParams[\"axes.grid\"] = True\n",
    "plt.rcParams['axes.axisbelow'] = True"
   ]
  },
  {
   "cell_type": "code",
   "execution_count": 716,
   "metadata": {},
   "outputs": [],
   "source": [
    "def get_data(sym):\n",
    "    file_path = \"./stockData/\"\n",
    "    csv_path = os.path.join(file_path, f\"{sym}.csv\")\n",
    "    df = pd.read_csv(csv_path, parse_dates=True, index_col = ['Date'])\n",
    "    df.drop('Symbol', axis=1, inplace=True)\n",
    "    return df"
   ]
  },
  {
   "cell_type": "code",
   "execution_count": 5,
   "metadata": {},
   "outputs": [],
   "source": [
    "sp500 = fdr.StockListing('S&P500')\n",
    "sp500_list = list(sp500['Symbol'])"
   ]
  },
  {
   "cell_type": "code",
   "execution_count": 6,
   "metadata": {},
   "outputs": [],
   "source": [
    "price_dict = {}\n",
    "\n",
    "for i, data in sp500.iterrows():\n",
    "    sym, name = data['Symbol'], data['Name']\n",
    "    df =  get_data(sym)\n",
    "    price_dict[sym] = df['Close']"
   ]
  },
  {
   "cell_type": "code",
   "execution_count": 7,
   "metadata": {},
   "outputs": [],
   "source": [
    "df_price = pd.DataFrame()\n",
    "\n",
    "for i, data in sp500.iterrows():\n",
    "    sym, name = data['Symbol'], data['Name']\n",
    "    df =  get_data(sym)\n",
    "    df_price[sym] = df['Close']"
   ]
  },
  {
   "cell_type": "code",
   "execution_count": 593,
   "metadata": {},
   "outputs": [],
   "source": [
    "collect = []"
   ]
  },
  {
   "cell_type": "code",
   "execution_count": 607,
   "metadata": {},
   "outputs": [],
   "source": [
    "best_list = []\n",
    "\n",
    "for _ in range(10):\n",
    "    corr_price = df_price_corr.copy()\n",
    "\n",
    "    cor_dict = []\n",
    "\n",
    "    rnd = []\n",
    "    \n",
    "    first = []\n",
    "\n",
    "    for num in range(10):\n",
    "        temp = np.random.randint(1,505 - (num * 51))\n",
    "        rnd.append(temp)\n",
    "\n",
    "    for r in rnd:\n",
    "        i = corr_price.columns.values[r]\n",
    "        first.append(i)\n",
    "\n",
    "        temp = corr_price[i]\n",
    "        temp_sort = temp.sort_values(ascending=False)\n",
    "        cor_dict.append(temp_sort[1:31])\n",
    "\n",
    "        idx = temp_sort[0:31].index.values\n",
    "        corr_price.drop(idx, inplace=True)\n",
    "        corr_price.drop(idx, axis=1, inplace=True)\n",
    "\n",
    "    remain = list(corr_price.columns.values)\n",
    "    \n",
    "    for id, col_name in enumerate(reversed(first)):\n",
    "        id = len(first)-id-1\n",
    "        result = pd.DataFrame()\n",
    "        result = df_price[col_name]\n",
    "\n",
    "        for i in remain:\n",
    "            result = pd.concat([result, df_price[i]], axis = 1)\n",
    "\n",
    "        result_corr = result.corr()\n",
    "        st = result_corr.columns.values[0]\n",
    "\n",
    "\n",
    "        temp = result_corr[st]\n",
    "        temp_sort = temp.sort_values(ascending=False)\n",
    "        cor_dict[id]=cor_dict[id].append(temp_sort[1:21])\n",
    "\n",
    "        idx = list(temp_sort[1:21].index.values) \n",
    "\n",
    "        for rmv in idx:\n",
    "            remain.remove(rmv)\n",
    "        \n",
    "    best_list.append(cor_dict)"
   ]
  },
  {
   "cell_type": "code",
   "execution_count": 608,
   "metadata": {},
   "outputs": [
    {
     "name": "stdout",
     "output_type": "stream",
     "text": [
      "0.801708625930412\n",
      "4\n"
     ]
    }
   ],
   "source": [
    "scores = []\n",
    "\n",
    "for co_list in best_list:\n",
    "    t = []\n",
    "    for cor in co_list:\n",
    "        corr_mean = cor.mean()\n",
    "        t.append(corr_mean)\n",
    "    mean_score = np.mean(t)\n",
    "    scores.append((mean_score))\n",
    "    \n",
    "print(np.max(scores))\n",
    "best_idx = np.argmax(scores)\n",
    "print(best_idx)"
   ]
  },
  {
   "cell_type": "code",
   "execution_count": 609,
   "metadata": {},
   "outputs": [
    {
     "name": "stdout",
     "output_type": "stream",
     "text": [
      "0.5997848092229028\n",
      "0.7016073592040967\n",
      "0.8197321795846427\n",
      "0.8544774586418632\n",
      "0.924168776526368\n",
      "0.5722124245447572\n",
      "0.8559701234239175\n",
      "0.9024088484101985\n",
      "0.9031671423631841\n",
      "0.8835571373821892\n"
     ]
    }
   ],
   "source": [
    "a = best_list[best_idx]\n",
    "collect.append(a)\n",
    "\n",
    "for c in a:\n",
    "    b = c.mean()\n",
    "    print(b)"
   ]
  },
  {
   "cell_type": "code",
   "execution_count": 606,
   "metadata": {},
   "outputs": [
    {
     "name": "stdout",
     "output_type": "stream",
     "text": [
      "0.7929825234667038\n",
      "0.7638970641985822\n",
      "0.8584003186817633\n",
      "0.9300870972479837\n",
      "0.8039574033903052\n",
      "0.9344076463156373\n",
      "0.8750198200188432\n",
      "0.6226147343479097\n",
      "0.7431588856809388\n",
      "0.9518549368822753\n"
     ]
    }
   ],
   "source": [
    "for c in collect[3]:\n",
    "    b = c.mean()\n",
    "    print(b)"
   ]
  },
  {
   "cell_type": "code",
   "execution_count": 627,
   "metadata": {},
   "outputs": [],
   "source": [
    "my_data_set = []\n",
    "\n",
    "for c in collect[3]:\n",
    "    temp = list(c.index.values)\n",
    "    temp.append(c.name)\n",
    "    my_data_set.append(temp)"
   ]
  },
  {
   "cell_type": "code",
   "execution_count": 631,
   "metadata": {},
   "outputs": [],
   "source": [
    "import hashlib\n",
    "import json\n",
    "from os import listdir\n",
    "from os.path import isfile, join\n",
    "\n",
    "\n",
    "def save_exp_result(result):    \n",
    "    filepath = './results'\n",
    "    if not os.path.isdir(filepath):\n",
    "        os.mkdir(filepath)\n",
    "\n",
    "    filename = './results/my_data_set.json'\n",
    "    with open(filename, 'w') as f:\n",
    "        json.dump(result, f)"
   ]
  },
  {
   "cell_type": "code",
   "execution_count": 632,
   "metadata": {},
   "outputs": [],
   "source": [
    "save_exp_result(my_data_set)"
   ]
  },
  {
   "cell_type": "code",
   "execution_count": 637,
   "metadata": {},
   "outputs": [],
   "source": [
    "def load_data_set(filename):\n",
    "    dir_path = './data_set'\n",
    "    \n",
    "    with open(join(dir_path, filename), 'r') as f:\n",
    "        results = json.load(f)\n",
    "        \n",
    "    return results "
   ]
  },
  {
   "cell_type": "code",
   "execution_count": 639,
   "metadata": {},
   "outputs": [],
   "source": [
    "result = load_data_set('my_data_set.json')"
   ]
  }
 ],
 "metadata": {
  "kernelspec": {
   "display_name": "Python 3",
   "language": "python",
   "name": "python3"
  },
  "language_info": {
   "codemirror_mode": {
    "name": "ipython",
    "version": 3
   },
   "file_extension": ".py",
   "mimetype": "text/x-python",
   "name": "python",
   "nbconvert_exporter": "python",
   "pygments_lexer": "ipython3",
   "version": "3.8.6"
  }
 },
 "nbformat": 4,
 "nbformat_minor": 4
}
