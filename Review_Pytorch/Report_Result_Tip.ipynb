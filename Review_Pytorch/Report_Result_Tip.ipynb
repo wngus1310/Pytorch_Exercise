{
 "cells": [
  {
   "cell_type": "markdown",
   "metadata": {},
   "source": [
    "# Use Json File to save data"
   ]
  },
  {
   "cell_type": "code",
   "execution_count": 1,
   "metadata": {},
   "outputs": [],
   "source": [
    "import json"
   ]
  },
  {
   "cell_type": "code",
   "execution_count": 2,
   "metadata": {},
   "outputs": [],
   "source": [
    "a = {'value': 5, 'value2': 10}"
   ]
  },
  {
   "cell_type": "code",
   "execution_count": 3,
   "metadata": {},
   "outputs": [],
   "source": [
    "filename= 'test.json'"
   ]
  },
  {
   "cell_type": "code",
   "execution_count": 4,
   "metadata": {},
   "outputs": [],
   "source": [
    "with open(filename, 'w') as f:\n",
    "    json.dump(a, f)"
   ]
  },
  {
   "cell_type": "code",
   "execution_count": 5,
   "metadata": {},
   "outputs": [
    {
     "name": "stdout",
     "output_type": "stream",
     "text": [
      "Report_Result_JSON.ipynb  RNN-Basic.ipynb  test.json\r\n"
     ]
    }
   ],
   "source": [
    "!ls"
   ]
  },
  {
   "cell_type": "code",
   "execution_count": 6,
   "metadata": {},
   "outputs": [
    {
     "name": "stdout",
     "output_type": "stream",
     "text": [
      "{\"value\": 5, \"value2\": 10}"
     ]
    }
   ],
   "source": [
    "!cat test.json"
   ]
  },
  {
   "cell_type": "code",
   "execution_count": 9,
   "metadata": {},
   "outputs": [
    {
     "name": "stdout",
     "output_type": "stream",
     "text": [
      "{'value': 5, 'value2': 10, 'seq': [1, 2, 3, 4, 5]}\n"
     ]
    }
   ],
   "source": [
    "b = {'value': 5, 'value2': 10, 'seq': [1,2,3,4,5,]}\n",
    "\n",
    "with open(filename, 'w') as f:\n",
    "    json.dump(b, f)\n",
    "\n",
    "with open(filename, 'r') as f:\n",
    "    result = json.load(f)\n",
    "    print(result)"
   ]
  },
  {
   "cell_type": "markdown",
   "metadata": {},
   "source": [
    "# Json File name ---> 변수 값들을 파일 제목으로?? 너무 김  \n",
    "# Hash 이용하는 방법"
   ]
  },
  {
   "cell_type": "code",
   "execution_count": 10,
   "metadata": {},
   "outputs": [],
   "source": [
    "import hashlib"
   ]
  },
  {
   "cell_type": "code",
   "execution_count": 11,
   "metadata": {},
   "outputs": [
    {
     "name": "stdout",
     "output_type": "stream",
     "text": [
      "133e1f9decf1cb0bcfc01cabbc0d60794986af33\n"
     ]
    }
   ],
   "source": [
    "a = \"my name is JuHyeon\"\n",
    "\n",
    "hash_key = hashlib.sha1(a.encode()).hexdigest() \n",
    "\n",
    "print(hash_key)"
   ]
  },
  {
   "cell_type": "code",
   "execution_count": 12,
   "metadata": {},
   "outputs": [
    {
     "name": "stdout",
     "output_type": "stream",
     "text": [
      "133e1f\n"
     ]
    }
   ],
   "source": [
    "hash_key = hashlib.sha1(a.encode()).hexdigest()[:6]\n",
    "\n",
    "print(hash_key)"
   ]
  },
  {
   "cell_type": "code",
   "execution_count": 13,
   "metadata": {},
   "outputs": [
    {
     "name": "stdout",
     "output_type": "stream",
     "text": [
      "8365a8fa29be37cada4aa2f247c2e25f900cb4f8\n"
     ]
    }
   ],
   "source": [
    "b = \"my name is JuHyeon2\"\n",
    "\n",
    "hash_key = hashlib.sha1(b.encode()).hexdigest() \n",
    "\n",
    "print(hash_key)"
   ]
  },
  {
   "cell_type": "code",
   "execution_count": 14,
   "metadata": {},
   "outputs": [
    {
     "name": "stdout",
     "output_type": "stream",
     "text": [
      "8365a8\n"
     ]
    }
   ],
   "source": [
    "hash_key = hashlib.sha1(b.encode()).hexdigest()[:6]\n",
    "\n",
    "print(hash_key)"
   ]
  },
  {
   "cell_type": "code",
   "execution_count": 15,
   "metadata": {},
   "outputs": [],
   "source": [
    "setting = {'value': 5, 'value2': 10, 'seq': [1,2,3,4,5,]}\n",
    "\n",
    "hash_key = hashlib.sha1(str(setting).encode()).hexdigest()[:6]"
   ]
  },
  {
   "cell_type": "code",
   "execution_count": 16,
   "metadata": {},
   "outputs": [
    {
     "name": "stdout",
     "output_type": "stream",
     "text": [
      "0a7c21\n"
     ]
    }
   ],
   "source": [
    "print(hash_key)"
   ]
  },
  {
   "cell_type": "code",
   "execution_count": 21,
   "metadata": {},
   "outputs": [
    {
     "name": "stdout",
     "output_type": "stream",
     "text": [
      "exp1-8ad3bc.json\n"
     ]
    }
   ],
   "source": [
    "setting = {'value': 5, 'value2': 10, 'seq': [1,2,3,4,5,], 'exp_name': 'exp1'}\n",
    "exp_name = setting['exp_name']\n",
    "hash_key = hashlib.sha1(str(setting).encode()).hexdigest()[:6]\n",
    "filename = f'{exp_name}-{hash_key}.json'\n",
    "print(filename)"
   ]
  },
  {
   "cell_type": "code",
   "execution_count": 22,
   "metadata": {},
   "outputs": [
    {
     "name": "stdout",
     "output_type": "stream",
     "text": [
      "Report_Result_Tip.ipynb  results  RNN-Basic.ipynb  test.json\r\n"
     ]
    }
   ],
   "source": [
    "!mkdir results\n",
    "!ls"
   ]
  },
  {
   "cell_type": "code",
   "execution_count": null,
   "metadata": {},
   "outputs": [],
   "source": [
    "import hashlib\n",
    "import json\n",
    "from os import listdir\n",
    "from os.path import isfile, join\n",
    "import pandas as pd\n",
    "\n",
    "def save_exp_result(setting, result):\n",
    "    exp_name = setting['exp_name']\n",
    "    del setting['epoch']\n",
    "    del setting['test_batch_size']\n",
    "\n",
    "    hash_key = hashlib.sha1(str(setting).encode()).hexdigest()[:6]\n",
    "    filename = './results/{}-{}.json'.format(exp_name, hash_key)\n",
    "    result.update(setting)\n",
    "    with open(filename, 'w') as f:\n",
    "        json.dump(result, f)\n",
    "\n",
    "    \n",
    "def load_exp_result(exp_name):\n",
    "    dir_path = './results'\n",
    "    filenames = [f for f in listdir(dir_path) if isfile(join(dir_path, f)) if '.json' in f]\n",
    "    list_result = []\n",
    "    for filename in filenames:\n",
    "        if exp_name in filename:\n",
    "            with open(join(dir_path, filename), 'r') as infile:\n",
    "                results = json.load(infile)\n",
    "                list_result.append(results)\n",
    "    df = pd.DataFrame(list_result) # .drop(columns=[])\n",
    "    return df"
   ]
  }
 ],
 "metadata": {
  "kernelspec": {
   "display_name": "Python 3",
   "language": "python",
   "name": "python3"
  },
  "language_info": {
   "codemirror_mode": {
    "name": "ipython",
    "version": 3
   },
   "file_extension": ".py",
   "mimetype": "text/x-python",
   "name": "python",
   "nbconvert_exporter": "python",
   "pygments_lexer": "ipython3",
   "version": "3.8.6"
  }
 },
 "nbformat": 4,
 "nbformat_minor": 4
}
